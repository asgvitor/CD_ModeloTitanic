{
  "nbformat": 4,
  "nbformat_minor": 0,
  "metadata": {
    "colab": {
      "name": "ResolucaoTitanic.ipynb",
      "provenance": [],
      "authorship_tag": "ABX9TyOqwZfTO4O0VdrVGUZMDl5l"
    },
    "kernelspec": {
      "name": "python3",
      "display_name": "Python 3"
    }
  },
  "cells": [
    {
      "cell_type": "code",
      "metadata": {
        "id": "fTViEty-Rbol",
        "colab_type": "code",
        "colab": {}
      },
      "source": [
        "import pandas as pd"
      ],
      "execution_count": 0,
      "outputs": []
    },
    {
      "cell_type": "code",
      "metadata": {
        "id": "jZXkGjQcqe_e",
        "colab_type": "code",
        "colab": {}
      },
      "source": [
        "df = pd.read_csv('/content/train.csv')"
      ],
      "execution_count": 0,
      "outputs": []
    },
    {
      "cell_type": "code",
      "metadata": {
        "id": "7UOzuU_uqfJc",
        "colab_type": "code",
        "colab": {}
      },
      "source": [
        "df.columns = [x.lower() for x in df.columns]"
      ],
      "execution_count": 0,
      "outputs": []
    },
    {
      "cell_type": "code",
      "metadata": {
        "id": "0-95UtfBrD2a",
        "colab_type": "code",
        "colab": {
          "base_uri": "https://localhost:8080/",
          "height": 289
        },
        "outputId": "2f9ebb24-ee1f-4847-c21c-d9c289175008"
      },
      "source": [
        "df.head()"
      ],
      "execution_count": 8,
      "outputs": [
        {
          "output_type": "execute_result",
          "data": {
            "text/html": [
              "<div>\n",
              "<style scoped>\n",
              "    .dataframe tbody tr th:only-of-type {\n",
              "        vertical-align: middle;\n",
              "    }\n",
              "\n",
              "    .dataframe tbody tr th {\n",
              "        vertical-align: top;\n",
              "    }\n",
              "\n",
              "    .dataframe thead th {\n",
              "        text-align: right;\n",
              "    }\n",
              "</style>\n",
              "<table border=\"1\" class=\"dataframe\">\n",
              "  <thead>\n",
              "    <tr style=\"text-align: right;\">\n",
              "      <th></th>\n",
              "      <th>passengerid</th>\n",
              "      <th>survived</th>\n",
              "      <th>pclass</th>\n",
              "      <th>name</th>\n",
              "      <th>sex</th>\n",
              "      <th>age</th>\n",
              "      <th>sibsp</th>\n",
              "      <th>parch</th>\n",
              "      <th>ticket</th>\n",
              "      <th>fare</th>\n",
              "      <th>cabin</th>\n",
              "      <th>embarked</th>\n",
              "    </tr>\n",
              "  </thead>\n",
              "  <tbody>\n",
              "    <tr>\n",
              "      <th>0</th>\n",
              "      <td>1</td>\n",
              "      <td>0</td>\n",
              "      <td>3</td>\n",
              "      <td>Braund, Mr. Owen Harris</td>\n",
              "      <td>male</td>\n",
              "      <td>22.0</td>\n",
              "      <td>1</td>\n",
              "      <td>0</td>\n",
              "      <td>A/5 21171</td>\n",
              "      <td>7.2500</td>\n",
              "      <td>NaN</td>\n",
              "      <td>S</td>\n",
              "    </tr>\n",
              "    <tr>\n",
              "      <th>1</th>\n",
              "      <td>2</td>\n",
              "      <td>1</td>\n",
              "      <td>1</td>\n",
              "      <td>Cumings, Mrs. John Bradley (Florence Briggs Th...</td>\n",
              "      <td>female</td>\n",
              "      <td>38.0</td>\n",
              "      <td>1</td>\n",
              "      <td>0</td>\n",
              "      <td>PC 17599</td>\n",
              "      <td>71.2833</td>\n",
              "      <td>C85</td>\n",
              "      <td>C</td>\n",
              "    </tr>\n",
              "    <tr>\n",
              "      <th>2</th>\n",
              "      <td>3</td>\n",
              "      <td>1</td>\n",
              "      <td>3</td>\n",
              "      <td>Heikkinen, Miss. Laina</td>\n",
              "      <td>female</td>\n",
              "      <td>26.0</td>\n",
              "      <td>0</td>\n",
              "      <td>0</td>\n",
              "      <td>STON/O2. 3101282</td>\n",
              "      <td>7.9250</td>\n",
              "      <td>NaN</td>\n",
              "      <td>S</td>\n",
              "    </tr>\n",
              "    <tr>\n",
              "      <th>3</th>\n",
              "      <td>4</td>\n",
              "      <td>1</td>\n",
              "      <td>1</td>\n",
              "      <td>Futrelle, Mrs. Jacques Heath (Lily May Peel)</td>\n",
              "      <td>female</td>\n",
              "      <td>35.0</td>\n",
              "      <td>1</td>\n",
              "      <td>0</td>\n",
              "      <td>113803</td>\n",
              "      <td>53.1000</td>\n",
              "      <td>C123</td>\n",
              "      <td>S</td>\n",
              "    </tr>\n",
              "    <tr>\n",
              "      <th>4</th>\n",
              "      <td>5</td>\n",
              "      <td>0</td>\n",
              "      <td>3</td>\n",
              "      <td>Allen, Mr. William Henry</td>\n",
              "      <td>male</td>\n",
              "      <td>35.0</td>\n",
              "      <td>0</td>\n",
              "      <td>0</td>\n",
              "      <td>373450</td>\n",
              "      <td>8.0500</td>\n",
              "      <td>NaN</td>\n",
              "      <td>S</td>\n",
              "    </tr>\n",
              "  </tbody>\n",
              "</table>\n",
              "</div>"
            ],
            "text/plain": [
              "   passengerid  survived  pclass  ...     fare cabin  embarked\n",
              "0            1         0       3  ...   7.2500   NaN         S\n",
              "1            2         1       1  ...  71.2833   C85         C\n",
              "2            3         1       3  ...   7.9250   NaN         S\n",
              "3            4         1       1  ...  53.1000  C123         S\n",
              "4            5         0       3  ...   8.0500   NaN         S\n",
              "\n",
              "[5 rows x 12 columns]"
            ]
          },
          "metadata": {
            "tags": []
          },
          "execution_count": 8
        }
      ]
    },
    {
      "cell_type": "code",
      "metadata": {
        "id": "5kby2bbsrEIl",
        "colab_type": "code",
        "colab": {}
      },
      "source": [
        "x = df.loc[:,['pclass','sex','age','sibsp','parch','fare','embarked']]\n",
        "y = df.survived"
      ],
      "execution_count": 0,
      "outputs": []
    },
    {
      "cell_type": "code",
      "metadata": {
        "id": "TuxmiXVLtmOV",
        "colab_type": "code",
        "colab": {
          "base_uri": "https://localhost:8080/",
          "height": 34
        },
        "outputId": "d9d1de8a-4b05-4239-d340-4f07ee0743ac"
      },
      "source": [
        "y.isna().sum()"
      ],
      "execution_count": 13,
      "outputs": [
        {
          "output_type": "execute_result",
          "data": {
            "text/plain": [
              "0"
            ]
          },
          "metadata": {
            "tags": []
          },
          "execution_count": 13
        }
      ]
    },
    {
      "cell_type": "code",
      "metadata": {
        "id": "E9ZDYjmet1ow",
        "colab_type": "code",
        "colab": {
          "base_uri": "https://localhost:8080/",
          "height": 153
        },
        "outputId": "03926ace-4188-45eb-be91-e66eb6e6b67b"
      },
      "source": [
        "x.isna().sum()"
      ],
      "execution_count": 14,
      "outputs": [
        {
          "output_type": "execute_result",
          "data": {
            "text/plain": [
              "pclass        0\n",
              "sex           0\n",
              "age         177\n",
              "sibsp         0\n",
              "parch         0\n",
              "fare          0\n",
              "embarked      2\n",
              "dtype: int64"
            ]
          },
          "metadata": {
            "tags": []
          },
          "execution_count": 14
        }
      ]
    },
    {
      "cell_type": "code",
      "metadata": {
        "id": "i_H0txaxt5YI",
        "colab_type": "code",
        "colab": {}
      },
      "source": [
        "## Preprocessando os dados\n",
        "from sklearn.preprocessing import OneHotEncoder\n",
        "from sklearn.impute import SimpleImputer  \n",
        "\n",
        "## Modelos\n",
        "from sklearn.ensemble import RandomForestClassifier\n",
        "from sklearn.dummy import DummyClassifier\n",
        "\n",
        "## Avaliando os modelos\n",
        "from sklearn.model_selection import cross_val_score, GridSearchCV\n",
        "\n",
        "## Automatizando o tratamento e treinamento\n",
        "from sklearn.pipeline import Pipeline\n",
        "from sklearn.compose import ColumnTransformer "
      ],
      "execution_count": 0,
      "outputs": []
    },
    {
      "cell_type": "code",
      "metadata": {
        "id": "ObxrGDZ6urqy",
        "colab_type": "code",
        "colab": {}
      },
      "source": [
        "## Separando as features\n",
        "\n",
        "cat_features = ['pclass','sex','embarked']\n",
        "num_features = ['age','sibsp','parch','fare']"
      ],
      "execution_count": 0,
      "outputs": []
    },
    {
      "cell_type": "code",
      "metadata": {
        "id": "kVCWCIg-y0FH",
        "colab_type": "code",
        "colab": {}
      },
      "source": [
        "## Criando os passos\n",
        "\n",
        "steps_cat = [('imputer_categorica',SimpleImputer(strategy='most_frequent')),('ohe',OneHotEncoder())]\n",
        "steps_num = [('imputer_numericas',SimpleImputer(strategy='mean'))] "
      ],
      "execution_count": 0,
      "outputs": []
    },
    {
      "cell_type": "code",
      "metadata": {
        "id": "17kX6dEV0sj7",
        "colab_type": "code",
        "colab": {}
      },
      "source": [
        "## Criando os pipelines\n",
        "\n",
        "pipe_cat = Pipeline(steps_cat)\n",
        "pipe_num = Pipeline(steps_num)"
      ],
      "execution_count": 0,
      "outputs": []
    },
    {
      "cell_type": "code",
      "metadata": {
        "id": "Hg4X8vU32fnd",
        "colab_type": "code",
        "colab": {}
      },
      "source": [
        "## Criando os transformadores\n",
        "transformers = [('cat',pipe_cat,cat_features),('num',pipe_num,num_features)]\n",
        "col_transformer = ColumnTransformer(transformers)"
      ],
      "execution_count": 0,
      "outputs": []
    },
    {
      "cell_type": "code",
      "metadata": {
        "id": "ishnhTBH29L7",
        "colab_type": "code",
        "colab": {
          "base_uri": "https://localhost:8080/",
          "height": 544
        },
        "outputId": "e5431308-d232-4aac-c375-bd5afd28812d"
      },
      "source": [
        "col_transformer"
      ],
      "execution_count": 35,
      "outputs": [
        {
          "output_type": "execute_result",
          "data": {
            "text/plain": [
              "ColumnTransformer(n_jobs=None, remainder='drop', sparse_threshold=0.3,\n",
              "                  transformer_weights=None,\n",
              "                  transformers=[('cat',\n",
              "                                 Pipeline(memory=None,\n",
              "                                          steps=[('imputer_categorica',\n",
              "                                                  SimpleImputer(add_indicator=False,\n",
              "                                                                copy=True,\n",
              "                                                                fill_value=None,\n",
              "                                                                missing_values=nan,\n",
              "                                                                strategy='most_frequent',\n",
              "                                                                verbose=0)),\n",
              "                                                 ('ohe',\n",
              "                                                  OneHotEncoder(categories='auto',\n",
              "                                                                drop=None,\n",
              "                                                                dtype=<class 'numpy.float64'>,\n",
              "                                                                handle_unknown='error',\n",
              "                                                                sparse=True))],\n",
              "                                          verbose=False),\n",
              "                                 ['pclass', 'sex', 'embarked']),\n",
              "                                ('num',\n",
              "                                 Pipeline(memory=None,\n",
              "                                          steps=[('imputer_numericas',\n",
              "                                                  SimpleImputer(add_indicator=False,\n",
              "                                                                copy=True,\n",
              "                                                                fill_value=None,\n",
              "                                                                missing_values=nan,\n",
              "                                                                strategy='mean',\n",
              "                                                                verbose=0))],\n",
              "                                          verbose=False),\n",
              "                                 ['age', 'sibsp', 'parch', 'fare'])],\n",
              "                  verbose=False)"
            ]
          },
          "metadata": {
            "tags": []
          },
          "execution_count": 35
        }
      ]
    },
    {
      "cell_type": "code",
      "metadata": {
        "id": "w0e1n9lB1ZxN",
        "colab_type": "code",
        "colab": {
          "base_uri": "https://localhost:8080/",
          "height": 238
        },
        "outputId": "49e56ab3-9578-49fb-86ad-c93cc3279440"
      },
      "source": [
        "pd.DataFrame(col_transformer.fit_transform(x)).isna().sum()"
      ],
      "execution_count": 37,
      "outputs": [
        {
          "output_type": "execute_result",
          "data": {
            "text/plain": [
              "0     0\n",
              "1     0\n",
              "2     0\n",
              "3     0\n",
              "4     0\n",
              "5     0\n",
              "6     0\n",
              "7     0\n",
              "8     0\n",
              "9     0\n",
              "10    0\n",
              "11    0\n",
              "dtype: int64"
            ]
          },
          "metadata": {
            "tags": []
          },
          "execution_count": 37
        }
      ]
    },
    {
      "cell_type": "code",
      "metadata": {
        "id": "3JPawcPq5c3I",
        "colab_type": "code",
        "colab": {
          "base_uri": "https://localhost:8080/",
          "height": 419
        },
        "outputId": "be328914-2a91-43b3-864b-8d1e03ffcb9b"
      },
      "source": [
        "pd.DataFrame(col_transformer.fit_transform(x))"
      ],
      "execution_count": 38,
      "outputs": [
        {
          "output_type": "execute_result",
          "data": {
            "text/html": [
              "<div>\n",
              "<style scoped>\n",
              "    .dataframe tbody tr th:only-of-type {\n",
              "        vertical-align: middle;\n",
              "    }\n",
              "\n",
              "    .dataframe tbody tr th {\n",
              "        vertical-align: top;\n",
              "    }\n",
              "\n",
              "    .dataframe thead th {\n",
              "        text-align: right;\n",
              "    }\n",
              "</style>\n",
              "<table border=\"1\" class=\"dataframe\">\n",
              "  <thead>\n",
              "    <tr style=\"text-align: right;\">\n",
              "      <th></th>\n",
              "      <th>0</th>\n",
              "      <th>1</th>\n",
              "      <th>2</th>\n",
              "      <th>3</th>\n",
              "      <th>4</th>\n",
              "      <th>5</th>\n",
              "      <th>6</th>\n",
              "      <th>7</th>\n",
              "      <th>8</th>\n",
              "      <th>9</th>\n",
              "      <th>10</th>\n",
              "      <th>11</th>\n",
              "    </tr>\n",
              "  </thead>\n",
              "  <tbody>\n",
              "    <tr>\n",
              "      <th>0</th>\n",
              "      <td>0.0</td>\n",
              "      <td>0.0</td>\n",
              "      <td>1.0</td>\n",
              "      <td>0.0</td>\n",
              "      <td>1.0</td>\n",
              "      <td>0.0</td>\n",
              "      <td>0.0</td>\n",
              "      <td>1.0</td>\n",
              "      <td>22.000000</td>\n",
              "      <td>1.0</td>\n",
              "      <td>0.0</td>\n",
              "      <td>7.2500</td>\n",
              "    </tr>\n",
              "    <tr>\n",
              "      <th>1</th>\n",
              "      <td>1.0</td>\n",
              "      <td>0.0</td>\n",
              "      <td>0.0</td>\n",
              "      <td>1.0</td>\n",
              "      <td>0.0</td>\n",
              "      <td>1.0</td>\n",
              "      <td>0.0</td>\n",
              "      <td>0.0</td>\n",
              "      <td>38.000000</td>\n",
              "      <td>1.0</td>\n",
              "      <td>0.0</td>\n",
              "      <td>71.2833</td>\n",
              "    </tr>\n",
              "    <tr>\n",
              "      <th>2</th>\n",
              "      <td>0.0</td>\n",
              "      <td>0.0</td>\n",
              "      <td>1.0</td>\n",
              "      <td>1.0</td>\n",
              "      <td>0.0</td>\n",
              "      <td>0.0</td>\n",
              "      <td>0.0</td>\n",
              "      <td>1.0</td>\n",
              "      <td>26.000000</td>\n",
              "      <td>0.0</td>\n",
              "      <td>0.0</td>\n",
              "      <td>7.9250</td>\n",
              "    </tr>\n",
              "    <tr>\n",
              "      <th>3</th>\n",
              "      <td>1.0</td>\n",
              "      <td>0.0</td>\n",
              "      <td>0.0</td>\n",
              "      <td>1.0</td>\n",
              "      <td>0.0</td>\n",
              "      <td>0.0</td>\n",
              "      <td>0.0</td>\n",
              "      <td>1.0</td>\n",
              "      <td>35.000000</td>\n",
              "      <td>1.0</td>\n",
              "      <td>0.0</td>\n",
              "      <td>53.1000</td>\n",
              "    </tr>\n",
              "    <tr>\n",
              "      <th>4</th>\n",
              "      <td>0.0</td>\n",
              "      <td>0.0</td>\n",
              "      <td>1.0</td>\n",
              "      <td>0.0</td>\n",
              "      <td>1.0</td>\n",
              "      <td>0.0</td>\n",
              "      <td>0.0</td>\n",
              "      <td>1.0</td>\n",
              "      <td>35.000000</td>\n",
              "      <td>0.0</td>\n",
              "      <td>0.0</td>\n",
              "      <td>8.0500</td>\n",
              "    </tr>\n",
              "    <tr>\n",
              "      <th>...</th>\n",
              "      <td>...</td>\n",
              "      <td>...</td>\n",
              "      <td>...</td>\n",
              "      <td>...</td>\n",
              "      <td>...</td>\n",
              "      <td>...</td>\n",
              "      <td>...</td>\n",
              "      <td>...</td>\n",
              "      <td>...</td>\n",
              "      <td>...</td>\n",
              "      <td>...</td>\n",
              "      <td>...</td>\n",
              "    </tr>\n",
              "    <tr>\n",
              "      <th>886</th>\n",
              "      <td>0.0</td>\n",
              "      <td>1.0</td>\n",
              "      <td>0.0</td>\n",
              "      <td>0.0</td>\n",
              "      <td>1.0</td>\n",
              "      <td>0.0</td>\n",
              "      <td>0.0</td>\n",
              "      <td>1.0</td>\n",
              "      <td>27.000000</td>\n",
              "      <td>0.0</td>\n",
              "      <td>0.0</td>\n",
              "      <td>13.0000</td>\n",
              "    </tr>\n",
              "    <tr>\n",
              "      <th>887</th>\n",
              "      <td>1.0</td>\n",
              "      <td>0.0</td>\n",
              "      <td>0.0</td>\n",
              "      <td>1.0</td>\n",
              "      <td>0.0</td>\n",
              "      <td>0.0</td>\n",
              "      <td>0.0</td>\n",
              "      <td>1.0</td>\n",
              "      <td>19.000000</td>\n",
              "      <td>0.0</td>\n",
              "      <td>0.0</td>\n",
              "      <td>30.0000</td>\n",
              "    </tr>\n",
              "    <tr>\n",
              "      <th>888</th>\n",
              "      <td>0.0</td>\n",
              "      <td>0.0</td>\n",
              "      <td>1.0</td>\n",
              "      <td>1.0</td>\n",
              "      <td>0.0</td>\n",
              "      <td>0.0</td>\n",
              "      <td>0.0</td>\n",
              "      <td>1.0</td>\n",
              "      <td>29.699118</td>\n",
              "      <td>1.0</td>\n",
              "      <td>2.0</td>\n",
              "      <td>23.4500</td>\n",
              "    </tr>\n",
              "    <tr>\n",
              "      <th>889</th>\n",
              "      <td>1.0</td>\n",
              "      <td>0.0</td>\n",
              "      <td>0.0</td>\n",
              "      <td>0.0</td>\n",
              "      <td>1.0</td>\n",
              "      <td>1.0</td>\n",
              "      <td>0.0</td>\n",
              "      <td>0.0</td>\n",
              "      <td>26.000000</td>\n",
              "      <td>0.0</td>\n",
              "      <td>0.0</td>\n",
              "      <td>30.0000</td>\n",
              "    </tr>\n",
              "    <tr>\n",
              "      <th>890</th>\n",
              "      <td>0.0</td>\n",
              "      <td>0.0</td>\n",
              "      <td>1.0</td>\n",
              "      <td>0.0</td>\n",
              "      <td>1.0</td>\n",
              "      <td>0.0</td>\n",
              "      <td>1.0</td>\n",
              "      <td>0.0</td>\n",
              "      <td>32.000000</td>\n",
              "      <td>0.0</td>\n",
              "      <td>0.0</td>\n",
              "      <td>7.7500</td>\n",
              "    </tr>\n",
              "  </tbody>\n",
              "</table>\n",
              "<p>891 rows × 12 columns</p>\n",
              "</div>"
            ],
            "text/plain": [
              "       0    1    2    3    4    5    6    7          8    9   10       11\n",
              "0    0.0  0.0  1.0  0.0  1.0  0.0  0.0  1.0  22.000000  1.0  0.0   7.2500\n",
              "1    1.0  0.0  0.0  1.0  0.0  1.0  0.0  0.0  38.000000  1.0  0.0  71.2833\n",
              "2    0.0  0.0  1.0  1.0  0.0  0.0  0.0  1.0  26.000000  0.0  0.0   7.9250\n",
              "3    1.0  0.0  0.0  1.0  0.0  0.0  0.0  1.0  35.000000  1.0  0.0  53.1000\n",
              "4    0.0  0.0  1.0  0.0  1.0  0.0  0.0  1.0  35.000000  0.0  0.0   8.0500\n",
              "..   ...  ...  ...  ...  ...  ...  ...  ...        ...  ...  ...      ...\n",
              "886  0.0  1.0  0.0  0.0  1.0  0.0  0.0  1.0  27.000000  0.0  0.0  13.0000\n",
              "887  1.0  0.0  0.0  1.0  0.0  0.0  0.0  1.0  19.000000  0.0  0.0  30.0000\n",
              "888  0.0  0.0  1.0  1.0  0.0  0.0  0.0  1.0  29.699118  1.0  2.0  23.4500\n",
              "889  1.0  0.0  0.0  0.0  1.0  1.0  0.0  0.0  26.000000  0.0  0.0  30.0000\n",
              "890  0.0  0.0  1.0  0.0  1.0  0.0  1.0  0.0  32.000000  0.0  0.0   7.7500\n",
              "\n",
              "[891 rows x 12 columns]"
            ]
          },
          "metadata": {
            "tags": []
          },
          "execution_count": 38
        }
      ]
    },
    {
      "cell_type": "code",
      "metadata": {
        "id": "zMu8B8LS5gCt",
        "colab_type": "code",
        "colab": {}
      },
      "source": [
        "pipe_final = Pipeline(steps = [('pre_processing',col_transformer),('random_forest',RandomForestClassifier(n_estimators=1000))])"
      ],
      "execution_count": 0,
      "outputs": []
    },
    {
      "cell_type": "code",
      "metadata": {
        "id": "Ose7tO2S7H8h",
        "colab_type": "code",
        "colab": {
          "base_uri": "https://localhost:8080/",
          "height": 1000
        },
        "outputId": "2362e369-08c4-469d-b6e8-96f6cd5e713a"
      },
      "source": [
        "pipe_final.get_params()"
      ],
      "execution_count": 41,
      "outputs": [
        {
          "output_type": "execute_result",
          "data": {
            "text/plain": [
              "{'memory': None,\n",
              " 'pre_processing': ColumnTransformer(n_jobs=None, remainder='drop', sparse_threshold=0.3,\n",
              "                   transformer_weights=None,\n",
              "                   transformers=[('cat',\n",
              "                                  Pipeline(memory=None,\n",
              "                                           steps=[('imputer_categorica',\n",
              "                                                   SimpleImputer(add_indicator=False,\n",
              "                                                                 copy=True,\n",
              "                                                                 fill_value=None,\n",
              "                                                                 missing_values=nan,\n",
              "                                                                 strategy='most_frequent',\n",
              "                                                                 verbose=0)),\n",
              "                                                  ('ohe',\n",
              "                                                   OneHotEncoder(categories='auto',\n",
              "                                                                 drop=None,\n",
              "                                                                 dtype=<class 'numpy.float64'>,\n",
              "                                                                 handle_unknown='error',\n",
              "                                                                 sparse=True))],\n",
              "                                           verbose=False),\n",
              "                                  ['pclass', 'sex', 'embarked']),\n",
              "                                 ('num',\n",
              "                                  Pipeline(memory=None,\n",
              "                                           steps=[('imputer_numericas',\n",
              "                                                   SimpleImputer(add_indicator=False,\n",
              "                                                                 copy=True,\n",
              "                                                                 fill_value=None,\n",
              "                                                                 missing_values=nan,\n",
              "                                                                 strategy='mean',\n",
              "                                                                 verbose=0))],\n",
              "                                           verbose=False),\n",
              "                                  ['age', 'sibsp', 'parch', 'fare'])],\n",
              "                   verbose=False),\n",
              " 'pre_processing__cat': Pipeline(memory=None,\n",
              "          steps=[('imputer_categorica',\n",
              "                  SimpleImputer(add_indicator=False, copy=True, fill_value=None,\n",
              "                                missing_values=nan, strategy='most_frequent',\n",
              "                                verbose=0)),\n",
              "                 ('ohe',\n",
              "                  OneHotEncoder(categories='auto', drop=None,\n",
              "                                dtype=<class 'numpy.float64'>,\n",
              "                                handle_unknown='error', sparse=True))],\n",
              "          verbose=False),\n",
              " 'pre_processing__cat__imputer_categorica': SimpleImputer(add_indicator=False, copy=True, fill_value=None,\n",
              "               missing_values=nan, strategy='most_frequent', verbose=0),\n",
              " 'pre_processing__cat__imputer_categorica__add_indicator': False,\n",
              " 'pre_processing__cat__imputer_categorica__copy': True,\n",
              " 'pre_processing__cat__imputer_categorica__fill_value': None,\n",
              " 'pre_processing__cat__imputer_categorica__missing_values': nan,\n",
              " 'pre_processing__cat__imputer_categorica__strategy': 'most_frequent',\n",
              " 'pre_processing__cat__imputer_categorica__verbose': 0,\n",
              " 'pre_processing__cat__memory': None,\n",
              " 'pre_processing__cat__ohe': OneHotEncoder(categories='auto', drop=None, dtype=<class 'numpy.float64'>,\n",
              "               handle_unknown='error', sparse=True),\n",
              " 'pre_processing__cat__ohe__categories': 'auto',\n",
              " 'pre_processing__cat__ohe__drop': None,\n",
              " 'pre_processing__cat__ohe__dtype': numpy.float64,\n",
              " 'pre_processing__cat__ohe__handle_unknown': 'error',\n",
              " 'pre_processing__cat__ohe__sparse': True,\n",
              " 'pre_processing__cat__steps': [('imputer_categorica',\n",
              "   SimpleImputer(add_indicator=False, copy=True, fill_value=None,\n",
              "                 missing_values=nan, strategy='most_frequent', verbose=0)),\n",
              "  ('ohe',\n",
              "   OneHotEncoder(categories='auto', drop=None, dtype=<class 'numpy.float64'>,\n",
              "                 handle_unknown='error', sparse=True))],\n",
              " 'pre_processing__cat__verbose': False,\n",
              " 'pre_processing__n_jobs': None,\n",
              " 'pre_processing__num': Pipeline(memory=None,\n",
              "          steps=[('imputer_numericas',\n",
              "                  SimpleImputer(add_indicator=False, copy=True, fill_value=None,\n",
              "                                missing_values=nan, strategy='mean',\n",
              "                                verbose=0))],\n",
              "          verbose=False),\n",
              " 'pre_processing__num__imputer_numericas': SimpleImputer(add_indicator=False, copy=True, fill_value=None,\n",
              "               missing_values=nan, strategy='mean', verbose=0),\n",
              " 'pre_processing__num__imputer_numericas__add_indicator': False,\n",
              " 'pre_processing__num__imputer_numericas__copy': True,\n",
              " 'pre_processing__num__imputer_numericas__fill_value': None,\n",
              " 'pre_processing__num__imputer_numericas__missing_values': nan,\n",
              " 'pre_processing__num__imputer_numericas__strategy': 'mean',\n",
              " 'pre_processing__num__imputer_numericas__verbose': 0,\n",
              " 'pre_processing__num__memory': None,\n",
              " 'pre_processing__num__steps': [('imputer_numericas',\n",
              "   SimpleImputer(add_indicator=False, copy=True, fill_value=None,\n",
              "                 missing_values=nan, strategy='mean', verbose=0))],\n",
              " 'pre_processing__num__verbose': False,\n",
              " 'pre_processing__remainder': 'drop',\n",
              " 'pre_processing__sparse_threshold': 0.3,\n",
              " 'pre_processing__transformer_weights': None,\n",
              " 'pre_processing__transformers': [('cat', Pipeline(memory=None,\n",
              "            steps=[('imputer_categorica',\n",
              "                    SimpleImputer(add_indicator=False, copy=True, fill_value=None,\n",
              "                                  missing_values=nan, strategy='most_frequent',\n",
              "                                  verbose=0)),\n",
              "                   ('ohe',\n",
              "                    OneHotEncoder(categories='auto', drop=None,\n",
              "                                  dtype=<class 'numpy.float64'>,\n",
              "                                  handle_unknown='error', sparse=True))],\n",
              "            verbose=False), ['pclass', 'sex', 'embarked']),\n",
              "  ('num', Pipeline(memory=None,\n",
              "            steps=[('imputer_numericas',\n",
              "                    SimpleImputer(add_indicator=False, copy=True, fill_value=None,\n",
              "                                  missing_values=nan, strategy='mean',\n",
              "                                  verbose=0))],\n",
              "            verbose=False), ['age', 'sibsp', 'parch', 'fare'])],\n",
              " 'pre_processing__verbose': False,\n",
              " 'random_forest': RandomForestClassifier(bootstrap=True, ccp_alpha=0.0, class_weight=None,\n",
              "                        criterion='gini', max_depth=None, max_features='auto',\n",
              "                        max_leaf_nodes=None, max_samples=None,\n",
              "                        min_impurity_decrease=0.0, min_impurity_split=None,\n",
              "                        min_samples_leaf=1, min_samples_split=2,\n",
              "                        min_weight_fraction_leaf=0.0, n_estimators=100,\n",
              "                        n_jobs=None, oob_score=False, random_state=None,\n",
              "                        verbose=0, warm_start=False),\n",
              " 'random_forest__bootstrap': True,\n",
              " 'random_forest__ccp_alpha': 0.0,\n",
              " 'random_forest__class_weight': None,\n",
              " 'random_forest__criterion': 'gini',\n",
              " 'random_forest__max_depth': None,\n",
              " 'random_forest__max_features': 'auto',\n",
              " 'random_forest__max_leaf_nodes': None,\n",
              " 'random_forest__max_samples': None,\n",
              " 'random_forest__min_impurity_decrease': 0.0,\n",
              " 'random_forest__min_impurity_split': None,\n",
              " 'random_forest__min_samples_leaf': 1,\n",
              " 'random_forest__min_samples_split': 2,\n",
              " 'random_forest__min_weight_fraction_leaf': 0.0,\n",
              " 'random_forest__n_estimators': 100,\n",
              " 'random_forest__n_jobs': None,\n",
              " 'random_forest__oob_score': False,\n",
              " 'random_forest__random_state': None,\n",
              " 'random_forest__verbose': 0,\n",
              " 'random_forest__warm_start': False,\n",
              " 'steps': [('pre_processing',\n",
              "   ColumnTransformer(n_jobs=None, remainder='drop', sparse_threshold=0.3,\n",
              "                     transformer_weights=None,\n",
              "                     transformers=[('cat',\n",
              "                                    Pipeline(memory=None,\n",
              "                                             steps=[('imputer_categorica',\n",
              "                                                     SimpleImputer(add_indicator=False,\n",
              "                                                                   copy=True,\n",
              "                                                                   fill_value=None,\n",
              "                                                                   missing_values=nan,\n",
              "                                                                   strategy='most_frequent',\n",
              "                                                                   verbose=0)),\n",
              "                                                    ('ohe',\n",
              "                                                     OneHotEncoder(categories='auto',\n",
              "                                                                   drop=None,\n",
              "                                                                   dtype=<class 'numpy.float64'>,\n",
              "                                                                   handle_unknown='error',\n",
              "                                                                   sparse=True))],\n",
              "                                             verbose=False),\n",
              "                                    ['pclass', 'sex', 'embarked']),\n",
              "                                   ('num',\n",
              "                                    Pipeline(memory=None,\n",
              "                                             steps=[('imputer_numericas',\n",
              "                                                     SimpleImputer(add_indicator=False,\n",
              "                                                                   copy=True,\n",
              "                                                                   fill_value=None,\n",
              "                                                                   missing_values=nan,\n",
              "                                                                   strategy='mean',\n",
              "                                                                   verbose=0))],\n",
              "                                             verbose=False),\n",
              "                                    ['age', 'sibsp', 'parch', 'fare'])],\n",
              "                     verbose=False)),\n",
              "  ('random_forest',\n",
              "   RandomForestClassifier(bootstrap=True, ccp_alpha=0.0, class_weight=None,\n",
              "                          criterion='gini', max_depth=None, max_features='auto',\n",
              "                          max_leaf_nodes=None, max_samples=None,\n",
              "                          min_impurity_decrease=0.0, min_impurity_split=None,\n",
              "                          min_samples_leaf=1, min_samples_split=2,\n",
              "                          min_weight_fraction_leaf=0.0, n_estimators=100,\n",
              "                          n_jobs=None, oob_score=False, random_state=None,\n",
              "                          verbose=0, warm_start=False))],\n",
              " 'verbose': False}"
            ]
          },
          "metadata": {
            "tags": []
          },
          "execution_count": 41
        }
      ]
    },
    {
      "cell_type": "code",
      "metadata": {
        "id": "JY5m0spC7e_Q",
        "colab_type": "code",
        "colab": {}
      },
      "source": [
        "def compare_models(model1,model2,model3,model4,x,y,cv):\n",
        "  print('-- COMPARANDO MODELOS --')\n",
        "  print(f'Model 1: {cross_val_score(model1,X=x,y=y,cv=cv).mean()}')\n",
        "  print(f'Model 2: {cross_val_score(model2,X=x,y=y,cv=cv).mean()}')\n",
        "  print(f'Model 3: {cross_val_score(model3,X=x,y=y,cv=cv).mean()}')\n",
        "  print(f'Model 4: {cross_val_score(model4,X=x,y=y,cv=cv).mean()}')"
      ],
      "execution_count": 0,
      "outputs": []
    },
    {
      "cell_type": "code",
      "metadata": {
        "id": "dSOEiTp88maC",
        "colab_type": "code",
        "colab": {
          "base_uri": "https://localhost:8080/",
          "height": 68
        },
        "outputId": "a4571836-4fa0-43c9-e73b-ec82dc895188"
      },
      "source": [
        "df.survived.value_counts(normalize=True)"
      ],
      "execution_count": 45,
      "outputs": [
        {
          "output_type": "execute_result",
          "data": {
            "text/plain": [
              "0    0.616162\n",
              "1    0.383838\n",
              "Name: survived, dtype: float64"
            ]
          },
          "metadata": {
            "tags": []
          },
          "execution_count": 45
        }
      ]
    },
    {
      "cell_type": "code",
      "metadata": {
        "id": "r6mYE0ac-i-d",
        "colab_type": "code",
        "colab": {}
      },
      "source": [
        "from sklearn.svm import SVC\n",
        "dummy = DummyClassifier(strategy='most_frequent')\n",
        "pipe_final_DT = Pipeline(steps= [('pre_processing',col_transformer),('random_forest',DecisionTreeClassifier())])\n",
        "pipe_final_SVC = Pipeline(steps= [('pre_processing',col_transformer),('random_forest',SVC())])"
      ],
      "execution_count": 0,
      "outputs": []
    },
    {
      "cell_type": "code",
      "metadata": {
        "id": "ZOW0ZlFjAYdx",
        "colab_type": "code",
        "colab": {
          "base_uri": "https://localhost:8080/",
          "height": 102
        },
        "outputId": "0b6e528f-763b-4081-e9b0-5e30387492c6"
      },
      "source": [
        "compare_models(dummy,pipe_final,pipe_final_DT,pipe_final_SVC,x,y,10)"
      ],
      "execution_count": 64,
      "outputs": [
        {
          "output_type": "stream",
          "text": [
            "-- COMPARANDO MODELOS --\n",
            "Model 1: 0.616167290886392\n",
            "Model 2: 0.8070411985018726\n",
            "Model 3: 0.7878901373283396\n",
            "Model 4: 0.6813233458177278\n"
          ],
          "name": "stdout"
        }
      ]
    },
    {
      "cell_type": "code",
      "metadata": {
        "id": "qiB9O0GSI7ck",
        "colab_type": "code",
        "colab": {
          "base_uri": "https://localhost:8080/",
          "height": 1000
        },
        "outputId": "94d06824-79a2-4aeb-f36d-edfc59c5b641"
      },
      "source": [
        "pipe_final.get_params()"
      ],
      "execution_count": 65,
      "outputs": [
        {
          "output_type": "execute_result",
          "data": {
            "text/plain": [
              "{'memory': None,\n",
              " 'pre_processing': ColumnTransformer(n_jobs=None, remainder='drop', sparse_threshold=0.3,\n",
              "                   transformer_weights=None,\n",
              "                   transformers=[('cat',\n",
              "                                  Pipeline(memory=None,\n",
              "                                           steps=[('imputer_categorica',\n",
              "                                                   SimpleImputer(add_indicator=False,\n",
              "                                                                 copy=True,\n",
              "                                                                 fill_value=None,\n",
              "                                                                 missing_values=nan,\n",
              "                                                                 strategy='most_frequent',\n",
              "                                                                 verbose=0)),\n",
              "                                                  ('ohe',\n",
              "                                                   OneHotEncoder(categories='auto',\n",
              "                                                                 drop=None,\n",
              "                                                                 dtype=<class 'numpy.float64'>,\n",
              "                                                                 handle_unknown='error',\n",
              "                                                                 sparse=True))],\n",
              "                                           verbose=False),\n",
              "                                  ['pclass', 'sex', 'embarked']),\n",
              "                                 ('num',\n",
              "                                  Pipeline(memory=None,\n",
              "                                           steps=[('imputer_numericas',\n",
              "                                                   SimpleImputer(add_indicator=False,\n",
              "                                                                 copy=True,\n",
              "                                                                 fill_value=None,\n",
              "                                                                 missing_values=nan,\n",
              "                                                                 strategy='mean',\n",
              "                                                                 verbose=0))],\n",
              "                                           verbose=False),\n",
              "                                  ['age', 'sibsp', 'parch', 'fare'])],\n",
              "                   verbose=False),\n",
              " 'pre_processing__cat': Pipeline(memory=None,\n",
              "          steps=[('imputer_categorica',\n",
              "                  SimpleImputer(add_indicator=False, copy=True, fill_value=None,\n",
              "                                missing_values=nan, strategy='most_frequent',\n",
              "                                verbose=0)),\n",
              "                 ('ohe',\n",
              "                  OneHotEncoder(categories='auto', drop=None,\n",
              "                                dtype=<class 'numpy.float64'>,\n",
              "                                handle_unknown='error', sparse=True))],\n",
              "          verbose=False),\n",
              " 'pre_processing__cat__imputer_categorica': SimpleImputer(add_indicator=False, copy=True, fill_value=None,\n",
              "               missing_values=nan, strategy='most_frequent', verbose=0),\n",
              " 'pre_processing__cat__imputer_categorica__add_indicator': False,\n",
              " 'pre_processing__cat__imputer_categorica__copy': True,\n",
              " 'pre_processing__cat__imputer_categorica__fill_value': None,\n",
              " 'pre_processing__cat__imputer_categorica__missing_values': nan,\n",
              " 'pre_processing__cat__imputer_categorica__strategy': 'most_frequent',\n",
              " 'pre_processing__cat__imputer_categorica__verbose': 0,\n",
              " 'pre_processing__cat__memory': None,\n",
              " 'pre_processing__cat__ohe': OneHotEncoder(categories='auto', drop=None, dtype=<class 'numpy.float64'>,\n",
              "               handle_unknown='error', sparse=True),\n",
              " 'pre_processing__cat__ohe__categories': 'auto',\n",
              " 'pre_processing__cat__ohe__drop': None,\n",
              " 'pre_processing__cat__ohe__dtype': numpy.float64,\n",
              " 'pre_processing__cat__ohe__handle_unknown': 'error',\n",
              " 'pre_processing__cat__ohe__sparse': True,\n",
              " 'pre_processing__cat__steps': [('imputer_categorica',\n",
              "   SimpleImputer(add_indicator=False, copy=True, fill_value=None,\n",
              "                 missing_values=nan, strategy='most_frequent', verbose=0)),\n",
              "  ('ohe',\n",
              "   OneHotEncoder(categories='auto', drop=None, dtype=<class 'numpy.float64'>,\n",
              "                 handle_unknown='error', sparse=True))],\n",
              " 'pre_processing__cat__verbose': False,\n",
              " 'pre_processing__n_jobs': None,\n",
              " 'pre_processing__num': Pipeline(memory=None,\n",
              "          steps=[('imputer_numericas',\n",
              "                  SimpleImputer(add_indicator=False, copy=True, fill_value=None,\n",
              "                                missing_values=nan, strategy='mean',\n",
              "                                verbose=0))],\n",
              "          verbose=False),\n",
              " 'pre_processing__num__imputer_numericas': SimpleImputer(add_indicator=False, copy=True, fill_value=None,\n",
              "               missing_values=nan, strategy='mean', verbose=0),\n",
              " 'pre_processing__num__imputer_numericas__add_indicator': False,\n",
              " 'pre_processing__num__imputer_numericas__copy': True,\n",
              " 'pre_processing__num__imputer_numericas__fill_value': None,\n",
              " 'pre_processing__num__imputer_numericas__missing_values': nan,\n",
              " 'pre_processing__num__imputer_numericas__strategy': 'mean',\n",
              " 'pre_processing__num__imputer_numericas__verbose': 0,\n",
              " 'pre_processing__num__memory': None,\n",
              " 'pre_processing__num__steps': [('imputer_numericas',\n",
              "   SimpleImputer(add_indicator=False, copy=True, fill_value=None,\n",
              "                 missing_values=nan, strategy='mean', verbose=0))],\n",
              " 'pre_processing__num__verbose': False,\n",
              " 'pre_processing__remainder': 'drop',\n",
              " 'pre_processing__sparse_threshold': 0.3,\n",
              " 'pre_processing__transformer_weights': None,\n",
              " 'pre_processing__transformers': [('cat', Pipeline(memory=None,\n",
              "            steps=[('imputer_categorica',\n",
              "                    SimpleImputer(add_indicator=False, copy=True, fill_value=None,\n",
              "                                  missing_values=nan, strategy='most_frequent',\n",
              "                                  verbose=0)),\n",
              "                   ('ohe',\n",
              "                    OneHotEncoder(categories='auto', drop=None,\n",
              "                                  dtype=<class 'numpy.float64'>,\n",
              "                                  handle_unknown='error', sparse=True))],\n",
              "            verbose=False), ['pclass', 'sex', 'embarked']),\n",
              "  ('num', Pipeline(memory=None,\n",
              "            steps=[('imputer_numericas',\n",
              "                    SimpleImputer(add_indicator=False, copy=True, fill_value=None,\n",
              "                                  missing_values=nan, strategy='mean',\n",
              "                                  verbose=0))],\n",
              "            verbose=False), ['age', 'sibsp', 'parch', 'fare'])],\n",
              " 'pre_processing__verbose': False,\n",
              " 'random_forest': RandomForestClassifier(bootstrap=True, ccp_alpha=0.0, class_weight=None,\n",
              "                        criterion='gini', max_depth=None, max_features='auto',\n",
              "                        max_leaf_nodes=None, max_samples=None,\n",
              "                        min_impurity_decrease=0.0, min_impurity_split=None,\n",
              "                        min_samples_leaf=1, min_samples_split=2,\n",
              "                        min_weight_fraction_leaf=0.0, n_estimators=1000,\n",
              "                        n_jobs=None, oob_score=False, random_state=None,\n",
              "                        verbose=0, warm_start=False),\n",
              " 'random_forest__bootstrap': True,\n",
              " 'random_forest__ccp_alpha': 0.0,\n",
              " 'random_forest__class_weight': None,\n",
              " 'random_forest__criterion': 'gini',\n",
              " 'random_forest__max_depth': None,\n",
              " 'random_forest__max_features': 'auto',\n",
              " 'random_forest__max_leaf_nodes': None,\n",
              " 'random_forest__max_samples': None,\n",
              " 'random_forest__min_impurity_decrease': 0.0,\n",
              " 'random_forest__min_impurity_split': None,\n",
              " 'random_forest__min_samples_leaf': 1,\n",
              " 'random_forest__min_samples_split': 2,\n",
              " 'random_forest__min_weight_fraction_leaf': 0.0,\n",
              " 'random_forest__n_estimators': 1000,\n",
              " 'random_forest__n_jobs': None,\n",
              " 'random_forest__oob_score': False,\n",
              " 'random_forest__random_state': None,\n",
              " 'random_forest__verbose': 0,\n",
              " 'random_forest__warm_start': False,\n",
              " 'steps': [('pre_processing',\n",
              "   ColumnTransformer(n_jobs=None, remainder='drop', sparse_threshold=0.3,\n",
              "                     transformer_weights=None,\n",
              "                     transformers=[('cat',\n",
              "                                    Pipeline(memory=None,\n",
              "                                             steps=[('imputer_categorica',\n",
              "                                                     SimpleImputer(add_indicator=False,\n",
              "                                                                   copy=True,\n",
              "                                                                   fill_value=None,\n",
              "                                                                   missing_values=nan,\n",
              "                                                                   strategy='most_frequent',\n",
              "                                                                   verbose=0)),\n",
              "                                                    ('ohe',\n",
              "                                                     OneHotEncoder(categories='auto',\n",
              "                                                                   drop=None,\n",
              "                                                                   dtype=<class 'numpy.float64'>,\n",
              "                                                                   handle_unknown='error',\n",
              "                                                                   sparse=True))],\n",
              "                                             verbose=False),\n",
              "                                    ['pclass', 'sex', 'embarked']),\n",
              "                                   ('num',\n",
              "                                    Pipeline(memory=None,\n",
              "                                             steps=[('imputer_numericas',\n",
              "                                                     SimpleImputer(add_indicator=False,\n",
              "                                                                   copy=True,\n",
              "                                                                   fill_value=None,\n",
              "                                                                   missing_values=nan,\n",
              "                                                                   strategy='mean',\n",
              "                                                                   verbose=0))],\n",
              "                                             verbose=False),\n",
              "                                    ['age', 'sibsp', 'parch', 'fare'])],\n",
              "                     verbose=False)),\n",
              "  ('random_forest',\n",
              "   RandomForestClassifier(bootstrap=True, ccp_alpha=0.0, class_weight=None,\n",
              "                          criterion='gini', max_depth=None, max_features='auto',\n",
              "                          max_leaf_nodes=None, max_samples=None,\n",
              "                          min_impurity_decrease=0.0, min_impurity_split=None,\n",
              "                          min_samples_leaf=1, min_samples_split=2,\n",
              "                          min_weight_fraction_leaf=0.0, n_estimators=1000,\n",
              "                          n_jobs=None, oob_score=False, random_state=None,\n",
              "                          verbose=0, warm_start=False))],\n",
              " 'verbose': False}"
            ]
          },
          "metadata": {
            "tags": []
          },
          "execution_count": 65
        }
      ]
    },
    {
      "cell_type": "code",
      "metadata": {
        "id": "NFw7j01OJw71",
        "colab_type": "code",
        "colab": {
          "base_uri": "https://localhost:8080/",
          "height": 530
        },
        "outputId": "455166e0-f3e1-4169-aa4d-96441430edaf"
      },
      "source": [
        "params = {'random_forest__n_estimators':[100,200,300,400,500,600,700], \n",
        "          'random_fores'\n",
        "          'random_forest__random_state': [42]}\n",
        "\n",
        "grid = GridSearchCV(pipe_final,param_grid=params,cv=2)\n",
        "grid.fit(x,y)"
      ],
      "execution_count": 75,
      "outputs": [
        {
          "output_type": "execute_result",
          "data": {
            "text/plain": [
              "GridSearchCV(cv=2, error_score=nan,\n",
              "             estimator=Pipeline(memory=None,\n",
              "                                steps=[('pre_processing',\n",
              "                                        ColumnTransformer(n_jobs=None,\n",
              "                                                          remainder='drop',\n",
              "                                                          sparse_threshold=0.3,\n",
              "                                                          transformer_weights=None,\n",
              "                                                          transformers=[('cat',\n",
              "                                                                         Pipeline(memory=None,\n",
              "                                                                                  steps=[('imputer_categorica',\n",
              "                                                                                          SimpleImputer(add_indicator=False,\n",
              "                                                                                                        copy=True,\n",
              "                                                                                                        fill_value=None,\n",
              "                                                                                                        missing_values=nan,\n",
              "                                                                                                        strategy='most_fr...\n",
              "                                                               min_weight_fraction_leaf=0.0,\n",
              "                                                               n_estimators=1000,\n",
              "                                                               n_jobs=None,\n",
              "                                                               oob_score=False,\n",
              "                                                               random_state=None,\n",
              "                                                               verbose=0,\n",
              "                                                               warm_start=False))],\n",
              "                                verbose=False),\n",
              "             iid='deprecated', n_jobs=None,\n",
              "             param_grid={'random_forest__n_estimators': [100, 200, 300, 400,\n",
              "                                                         500, 600, 700],\n",
              "                         'random_forest__random_state': [42]},\n",
              "             pre_dispatch='2*n_jobs', refit=True, return_train_score=False,\n",
              "             scoring=None, verbose=0)"
            ]
          },
          "metadata": {
            "tags": []
          },
          "execution_count": 75
        }
      ]
    },
    {
      "cell_type": "code",
      "metadata": {
        "id": "6Fj3mSiJKE9g",
        "colab_type": "code",
        "colab": {
          "base_uri": "https://localhost:8080/",
          "height": 34
        },
        "outputId": "6959ceef-cdc5-4251-e7c6-8a8f5d8d1a81"
      },
      "source": [
        "grid.best_params_"
      ],
      "execution_count": 76,
      "outputs": [
        {
          "output_type": "execute_result",
          "data": {
            "text/plain": [
              "{'random_forest__n_estimators': 100, 'random_forest__random_state': 42}"
            ]
          },
          "metadata": {
            "tags": []
          },
          "execution_count": 76
        }
      ]
    },
    {
      "cell_type": "code",
      "metadata": {
        "id": "Bx66C-FzKp2L",
        "colab_type": "code",
        "colab": {
          "base_uri": "https://localhost:8080/",
          "height": 405
        },
        "outputId": "89c22613-867f-4131-daed-632e6ef4cf92"
      },
      "source": [
        "pd.DataFrame(grid.cv_results_)"
      ],
      "execution_count": 77,
      "outputs": [
        {
          "output_type": "execute_result",
          "data": {
            "text/html": [
              "<div>\n",
              "<style scoped>\n",
              "    .dataframe tbody tr th:only-of-type {\n",
              "        vertical-align: middle;\n",
              "    }\n",
              "\n",
              "    .dataframe tbody tr th {\n",
              "        vertical-align: top;\n",
              "    }\n",
              "\n",
              "    .dataframe thead th {\n",
              "        text-align: right;\n",
              "    }\n",
              "</style>\n",
              "<table border=\"1\" class=\"dataframe\">\n",
              "  <thead>\n",
              "    <tr style=\"text-align: right;\">\n",
              "      <th></th>\n",
              "      <th>mean_fit_time</th>\n",
              "      <th>std_fit_time</th>\n",
              "      <th>mean_score_time</th>\n",
              "      <th>std_score_time</th>\n",
              "      <th>param_random_forest__n_estimators</th>\n",
              "      <th>param_random_forest__random_state</th>\n",
              "      <th>params</th>\n",
              "      <th>split0_test_score</th>\n",
              "      <th>split1_test_score</th>\n",
              "      <th>mean_test_score</th>\n",
              "      <th>std_test_score</th>\n",
              "      <th>rank_test_score</th>\n",
              "    </tr>\n",
              "  </thead>\n",
              "  <tbody>\n",
              "    <tr>\n",
              "      <th>0</th>\n",
              "      <td>0.174622</td>\n",
              "      <td>0.004543</td>\n",
              "      <td>0.022013</td>\n",
              "      <td>0.004759</td>\n",
              "      <td>100</td>\n",
              "      <td>42</td>\n",
              "      <td>{'random_forest__n_estimators': 100, 'random_f...</td>\n",
              "      <td>0.789238</td>\n",
              "      <td>0.782022</td>\n",
              "      <td>0.785630</td>\n",
              "      <td>0.003608</td>\n",
              "      <td>1</td>\n",
              "    </tr>\n",
              "    <tr>\n",
              "      <th>1</th>\n",
              "      <td>0.322905</td>\n",
              "      <td>0.006252</td>\n",
              "      <td>0.031207</td>\n",
              "      <td>0.000675</td>\n",
              "      <td>200</td>\n",
              "      <td>42</td>\n",
              "      <td>{'random_forest__n_estimators': 200, 'random_f...</td>\n",
              "      <td>0.778027</td>\n",
              "      <td>0.779775</td>\n",
              "      <td>0.778901</td>\n",
              "      <td>0.000874</td>\n",
              "      <td>7</td>\n",
              "    </tr>\n",
              "    <tr>\n",
              "      <th>2</th>\n",
              "      <td>0.469691</td>\n",
              "      <td>0.014143</td>\n",
              "      <td>0.043386</td>\n",
              "      <td>0.001609</td>\n",
              "      <td>300</td>\n",
              "      <td>42</td>\n",
              "      <td>{'random_forest__n_estimators': 300, 'random_f...</td>\n",
              "      <td>0.782511</td>\n",
              "      <td>0.777528</td>\n",
              "      <td>0.780020</td>\n",
              "      <td>0.002492</td>\n",
              "      <td>6</td>\n",
              "    </tr>\n",
              "    <tr>\n",
              "      <th>3</th>\n",
              "      <td>0.621233</td>\n",
              "      <td>0.005715</td>\n",
              "      <td>0.053981</td>\n",
              "      <td>0.002457</td>\n",
              "      <td>400</td>\n",
              "      <td>42</td>\n",
              "      <td>{'random_forest__n_estimators': 400, 'random_f...</td>\n",
              "      <td>0.780269</td>\n",
              "      <td>0.782022</td>\n",
              "      <td>0.781146</td>\n",
              "      <td>0.000877</td>\n",
              "      <td>4</td>\n",
              "    </tr>\n",
              "    <tr>\n",
              "      <th>4</th>\n",
              "      <td>0.767691</td>\n",
              "      <td>0.002557</td>\n",
              "      <td>0.068966</td>\n",
              "      <td>0.000397</td>\n",
              "      <td>500</td>\n",
              "      <td>42</td>\n",
              "      <td>{'random_forest__n_estimators': 500, 'random_f...</td>\n",
              "      <td>0.782511</td>\n",
              "      <td>0.782022</td>\n",
              "      <td>0.782267</td>\n",
              "      <td>0.000244</td>\n",
              "      <td>2</td>\n",
              "    </tr>\n",
              "    <tr>\n",
              "      <th>5</th>\n",
              "      <td>0.916980</td>\n",
              "      <td>0.013592</td>\n",
              "      <td>0.080565</td>\n",
              "      <td>0.000642</td>\n",
              "      <td>600</td>\n",
              "      <td>42</td>\n",
              "      <td>{'random_forest__n_estimators': 600, 'random_f...</td>\n",
              "      <td>0.784753</td>\n",
              "      <td>0.779775</td>\n",
              "      <td>0.782264</td>\n",
              "      <td>0.002489</td>\n",
              "      <td>3</td>\n",
              "    </tr>\n",
              "    <tr>\n",
              "      <th>6</th>\n",
              "      <td>1.063825</td>\n",
              "      <td>0.010071</td>\n",
              "      <td>0.091144</td>\n",
              "      <td>0.000596</td>\n",
              "      <td>700</td>\n",
              "      <td>42</td>\n",
              "      <td>{'random_forest__n_estimators': 700, 'random_f...</td>\n",
              "      <td>0.782511</td>\n",
              "      <td>0.779775</td>\n",
              "      <td>0.781143</td>\n",
              "      <td>0.001368</td>\n",
              "      <td>5</td>\n",
              "    </tr>\n",
              "  </tbody>\n",
              "</table>\n",
              "</div>"
            ],
            "text/plain": [
              "   mean_fit_time  std_fit_time  ...  std_test_score  rank_test_score\n",
              "0       0.174622      0.004543  ...        0.003608                1\n",
              "1       0.322905      0.006252  ...        0.000874                7\n",
              "2       0.469691      0.014143  ...        0.002492                6\n",
              "3       0.621233      0.005715  ...        0.000877                4\n",
              "4       0.767691      0.002557  ...        0.000244                2\n",
              "5       0.916980      0.013592  ...        0.002489                3\n",
              "6       1.063825      0.010071  ...        0.001368                5\n",
              "\n",
              "[7 rows x 12 columns]"
            ]
          },
          "metadata": {
            "tags": []
          },
          "execution_count": 77
        }
      ]
    }
  ]
}